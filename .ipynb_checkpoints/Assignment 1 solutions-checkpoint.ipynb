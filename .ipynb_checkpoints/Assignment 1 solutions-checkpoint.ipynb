{
 "cells": [
  {
   "cell_type": "raw",
   "id": "33dd6c4c",
   "metadata": {},
   "source": [
    "---\n",
    "title: \"Assignment 1\"\n",
    "format: \n",
    "  html:\n",
    "    toc: true\n",
    "    toc-title: Contents\n",
    "    code-fold: show\n",
    "    self-contained: true\n",
    "jupyter: python3\n",
    "---"
   ]
  },
  {
   "cell_type": "markdown",
   "id": "0116f49b",
   "metadata": {},
   "source": [
    "## Instructions {-}\n",
    "\n",
    "1. You may talk to a friend, discuss the questions and potential directions for solving them. However, you need to write your own solutions and code separately, and not as a group activity. \n",
    "\n",
    "2. Do not write your name on the assignment.\n",
    "\n",
    "3. Write your code in the *Code* cells and your answer in the *Markdown* cells of the Jupyter notebook. Ensure that the solution is written neatly enough to understand and grade.\n",
    "\n",
    "4. Use [Quarto](https://quarto.org/docs/output-formats/html-basics.html) to print the *.ipynb* file as HTML. You will need to open the command prompt, navigate to the directory containing the file, and use the command: `quarto render filename.ipynb --to html`. Submit the HTML file.\n",
    "\n",
    "5. The assignment is worth 100 points, and is due on **6th October 2022 at 11:59 pm**. "
   ]
  },
  {
   "cell_type": "markdown",
   "id": "2e27b774",
   "metadata": {},
   "source": [
    "# I\n",
    "USA's GDP per capita from 1960 to 2021 is given by the tuple `T` in the code cell below. The values are arranged in ascending order of the year, i.e., the first value is for 1960, the second value is for 1961, and so on."
   ]
  },
  {
   "cell_type": "code",
   "execution_count": 222,
   "id": "03164b35",
   "metadata": {},
   "outputs": [],
   "source": [
    "T = (3007, 3067, 3244, 3375,3574, 3828, 4146, 4336, 4696, 5032,5234,5609,6094,6726,7226,7801,8592,9453,10565,11674,12575,13976,14434,15544,17121,18237,19071,20039,21417,22857,23889,24342,25419,26387,27695,28691,29968,31459,32854,34515,36330,37134,37998,39490,41725,44123,46302,48050,48570,47195,48651,50066,51784,53291,55124,56763,57867,59915,62805,65095,63028,69288)"
   ]
  },
  {
   "cell_type": "markdown",
   "id": "ca3b040d",
   "metadata": {},
   "source": [
    "## I-1.\n",
    "### I-1(a)\n",
    "Use list comprehension to produce a list of the gaps between consecutive entries in `T`, i.e, the increase in GDP per capita with respect to the previous year. The list with gaps should look like: [60, 177, ...].\n",
    "\n",
    "*(6 points)*"
   ]
  },
  {
   "cell_type": "code",
   "execution_count": 223,
   "id": "965ad940",
   "metadata": {},
   "outputs": [],
   "source": [
    "gap = [T[i+1]-T[i] for i in range(len(T)-1)]"
   ]
  },
  {
   "cell_type": "markdown",
   "id": "f2c777f3",
   "metadata": {},
   "source": [
    "### I-1(b)\n",
    "Use the list comprehension developed in (a) to find the maximum gap size, i.e, the maximum increase in GDP per capita.\n",
    "\n",
    "*(2 points)*"
   ]
  },
  {
   "cell_type": "code",
   "execution_count": 225,
   "id": "876c31f2",
   "metadata": {},
   "outputs": [
    {
     "name": "stdout",
     "output_type": "stream",
     "text": [
      "Maximum gap size =  6260\n"
     ]
    }
   ],
   "source": [
    "print(\"Maximum gap size = \", max(gap))"
   ]
  },
  {
   "cell_type": "markdown",
   "id": "128dc27e",
   "metadata": {},
   "source": [
    "### I-1(c)\n",
    "Use the list comprehension developed in (a) to find the percentage of gaps that have size greater than $1000.\n",
    "\n",
    "*(5 points)*"
   ]
  },
  {
   "cell_type": "code",
   "execution_count": 224,
   "id": "3723264d",
   "metadata": {},
   "outputs": [
    {
     "name": "stdout",
     "output_type": "stream",
     "text": [
      "Percentage of times the gap is greater than $1000= 51.61290322580645 %\n"
     ]
    }
   ],
   "source": [
    "print(\"Percentage of times the gap is greater than $1000=\", 100*len([x for x in gap if x>1000])/len(T),\"%\")"
   ]
  },
  {
   "cell_type": "markdown",
   "id": "ada12acf",
   "metadata": {},
   "source": [
    "## I-2 \n",
    "### I-2(a)\n",
    "Create a dictionary `D`, where the `key` is the year, and `value` for the `key` is the increase in GDP per capita in that year with respect to the previous year, i.e., the gaps computed in part (1). \n",
    "\n",
    "*(6 points)*"
   ]
  },
  {
   "cell_type": "code",
   "execution_count": 228,
   "id": "8b07d3c2",
   "metadata": {},
   "outputs": [],
   "source": [
    "year = range(1961,2022)\n",
    "D = {year[i]: gap[i] for i in range(len(year))}"
   ]
  },
  {
   "cell_type": "markdown",
   "id": "98f689b7",
   "metadata": {},
   "source": [
    "### I-2(b)\n",
    "Use the dictionary `D` to find the year when the GDP per capita increase was the maximum as compared to the previous year.\n",
    "\n",
    "*(4 points)*"
   ]
  },
  {
   "cell_type": "code",
   "execution_count": 227,
   "id": "2fc02331",
   "metadata": {},
   "outputs": [
    {
     "name": "stdout",
     "output_type": "stream",
     "text": [
      "Year(s) in which GDP per capita increase was maximum =  [2021]\n"
     ]
    }
   ],
   "source": [
    "years_max_increase = [key for key, value in D.items() if value == max(D.values())]\n",
    "print(\"Year(s) in which GDP per capita increase was maximum = \", years_max_increase)"
   ]
  },
  {
   "cell_type": "markdown",
   "id": "3b7269a5",
   "metadata": {},
   "source": [
    "### I-2(c)\n",
    "Use the dictionary `D` to find the years when the GDP per capita decreased with respect to the previous year.\n",
    "\n",
    "*(4 points)*"
   ]
  },
  {
   "cell_type": "code",
   "execution_count": 226,
   "id": "6c4d554e",
   "metadata": {},
   "outputs": [
    {
     "name": "stdout",
     "output_type": "stream",
     "text": [
      "Year(s) in which GDP per capita decreased =  [2009, 2020]\n"
     ]
    }
   ],
   "source": [
    "years_max_increase = [key for key, value in D.items() if value<0]\n",
    "print(\"Year(s) in which GDP per capita decreased = \", years_max_increase)"
   ]
  },
  {
   "cell_type": "markdown",
   "id": "fe7ea9bb",
   "metadata": {},
   "source": [
    "# II\n",
    "## II-1\n",
    "Read the [data](https://raw.githubusercontent.com/cwkenwaysun/TEDmap/master/data/TED_Talks.json) on ted talks from 2006 to 2017.\n",
    "\n",
    "*(2 points)*"
   ]
  },
  {
   "cell_type": "code",
   "execution_count": 234,
   "id": "ec21eb51",
   "metadata": {},
   "outputs": [],
   "source": [
    "import pandas as pd\n",
    "tedtalks_data = pd.read_json('https://raw.githubusercontent.com/cwkenwaysun/TEDmap/master/data/TED_Talks.json')"
   ]
  },
  {
   "cell_type": "markdown",
   "id": "16fccc9b",
   "metadata": {},
   "source": [
    "## II-2\n",
    "Find the number of talks in the dataset.\n",
    "\n",
    "*(2 points)*"
   ]
  },
  {
   "cell_type": "code",
   "execution_count": 231,
   "id": "1dd0d7e2",
   "metadata": {},
   "outputs": [
    {
     "name": "stdout",
     "output_type": "stream",
     "text": [
      "Number of talks in the data =  2474\n"
     ]
    }
   ],
   "source": [
    "print(\"Number of talks in the data = \",tedtalks_data.shape[0])"
   ]
  },
  {
   "cell_type": "markdown",
   "id": "16c1a490",
   "metadata": {},
   "source": [
    "## II-3 \n",
    "Find the `headline`, `speaker` and `year` of the talk with the highest number of views.\n",
    "\n",
    "*(5 points)*"
   ]
  },
  {
   "cell_type": "code",
   "execution_count": 232,
   "id": "2e92cdb2",
   "metadata": {},
   "outputs": [
    {
     "name": "stdout",
     "output_type": "stream",
     "text": [
      "For the talk with maximum views:\n",
      " headline       Do schools kill creativity?\n",
      "speaker                       Ken Robinson\n",
      "year_filmed                           2006\n",
      "Name: 59, dtype: object\n"
     ]
    }
   ],
   "source": [
    "print(\"For the talk with maximum views:\\n\", tedtalks_data.loc[tedtalks_data.views.argmax(),['headline','speaker','year_filmed']])"
   ]
  },
  {
   "cell_type": "markdown",
   "id": "9403cdfb",
   "metadata": {},
   "source": [
    "##  II-4 \n",
    "Do the majority of talks have less views than the average number of views for a talk? Justify your answer.\n",
    "\n",
    "*(4 points)*\n",
    "\n",
    "**Hint:** Print summary statistics for questions (4) and (5)."
   ]
  },
  {
   "cell_type": "code",
   "execution_count": 145,
   "id": "afee0963",
   "metadata": {},
   "outputs": [
    {
     "data": {
      "text/html": [
       "<div>\n",
       "<style scoped>\n",
       "    .dataframe tbody tr th:only-of-type {\n",
       "        vertical-align: middle;\n",
       "    }\n",
       "\n",
       "    .dataframe tbody tr th {\n",
       "        vertical-align: top;\n",
       "    }\n",
       "\n",
       "    .dataframe thead th {\n",
       "        text-align: right;\n",
       "    }\n",
       "</style>\n",
       "<table border=\"1\" class=\"dataframe\">\n",
       "  <thead>\n",
       "    <tr style=\"text-align: right;\">\n",
       "      <th></th>\n",
       "      <th>id</th>\n",
       "      <th>month_filmed</th>\n",
       "      <th>year_filmed</th>\n",
       "      <th>views</th>\n",
       "    </tr>\n",
       "  </thead>\n",
       "  <tbody>\n",
       "    <tr>\n",
       "      <th>count</th>\n",
       "      <td>2474.000000</td>\n",
       "      <td>2474.000000</td>\n",
       "      <td>2474.000000</td>\n",
       "      <td>2.474000e+03</td>\n",
       "    </tr>\n",
       "    <tr>\n",
       "      <th>mean</th>\n",
       "      <td>1433.782943</td>\n",
       "      <td>5.587712</td>\n",
       "      <td>2011.299515</td>\n",
       "      <td>1.747851e+06</td>\n",
       "    </tr>\n",
       "    <tr>\n",
       "      <th>std</th>\n",
       "      <td>797.970133</td>\n",
       "      <td>3.443934</td>\n",
       "      <td>3.665506</td>\n",
       "      <td>2.584138e+06</td>\n",
       "    </tr>\n",
       "    <tr>\n",
       "      <th>min</th>\n",
       "      <td>1.000000</td>\n",
       "      <td>1.000000</td>\n",
       "      <td>1972.000000</td>\n",
       "      <td>5.065300e+04</td>\n",
       "    </tr>\n",
       "    <tr>\n",
       "      <th>25%</th>\n",
       "      <td>768.250000</td>\n",
       "      <td>2.000000</td>\n",
       "      <td>2009.000000</td>\n",
       "      <td>7.703258e+05</td>\n",
       "    </tr>\n",
       "    <tr>\n",
       "      <th>50%</th>\n",
       "      <td>1451.500000</td>\n",
       "      <td>5.000000</td>\n",
       "      <td>2012.000000</td>\n",
       "      <td>1.151252e+06</td>\n",
       "    </tr>\n",
       "    <tr>\n",
       "      <th>75%</th>\n",
       "      <td>2118.750000</td>\n",
       "      <td>9.000000</td>\n",
       "      <td>2014.000000</td>\n",
       "      <td>1.748603e+06</td>\n",
       "    </tr>\n",
       "    <tr>\n",
       "      <th>max</th>\n",
       "      <td>2804.000000</td>\n",
       "      <td>12.000000</td>\n",
       "      <td>2017.000000</td>\n",
       "      <td>4.792402e+07</td>\n",
       "    </tr>\n",
       "  </tbody>\n",
       "</table>\n",
       "</div>"
      ],
      "text/plain": [
       "                id  month_filmed  year_filmed         views\n",
       "count  2474.000000   2474.000000  2474.000000  2.474000e+03\n",
       "mean   1433.782943      5.587712  2011.299515  1.747851e+06\n",
       "std     797.970133      3.443934     3.665506  2.584138e+06\n",
       "min       1.000000      1.000000  1972.000000  5.065300e+04\n",
       "25%     768.250000      2.000000  2009.000000  7.703258e+05\n",
       "50%    1451.500000      5.000000  2012.000000  1.151252e+06\n",
       "75%    2118.750000      9.000000  2014.000000  1.748603e+06\n",
       "max    2804.000000     12.000000  2017.000000  4.792402e+07"
      ]
     },
     "execution_count": 145,
     "metadata": {},
     "output_type": "execute_result"
    }
   ],
   "source": [
    "tedtalks_data.describe()"
   ]
  },
  {
   "cell_type": "markdown",
   "id": "a43bae20",
   "metadata": {},
   "source": [
    "Yes, correct! This is because the median number of views (=1.51 million) are less than the mean number of views (=1.75 million)."
   ]
  },
  {
   "cell_type": "markdown",
   "id": "3eb2d4f2",
   "metadata": {},
   "source": [
    "## II-5 \n",
    "Do at least 25% of the talks have more views than the average number of views for a talk? Justify your answer.\n",
    "\n",
    "*(4 points)*"
   ]
  },
  {
   "cell_type": "markdown",
   "id": "b6c6628d",
   "metadata": {},
   "source": [
    "Yes, correct! This is because the 75th percentile of the number of views (=1.748 million) is higher than the mean number of views (=1.747 million). "
   ]
  },
  {
   "cell_type": "markdown",
   "id": "4cd987b0",
   "metadata": {},
   "source": [
    "## II-6 \n",
    "\n",
    "### II-6(a)\n",
    "The last column of the dataset consists of votes obtained by the talk under different categories, such as *Funny, Confusing, Fascinating, etc.* For each category, create a new column in the dataset that contains the votes obtained by the tedtalk in that category. Print the first 5 rows of the updated dataset.\n",
    "\n",
    "*(20 points)*"
   ]
  },
  {
   "cell_type": "code",
   "execution_count": 236,
   "id": "eca0c71c",
   "metadata": {},
   "outputs": [
    {
     "data": {
      "text/html": [
       "<div>\n",
       "<style scoped>\n",
       "    .dataframe tbody tr th:only-of-type {\n",
       "        vertical-align: middle;\n",
       "    }\n",
       "\n",
       "    .dataframe tbody tr th {\n",
       "        vertical-align: top;\n",
       "    }\n",
       "\n",
       "    .dataframe thead th {\n",
       "        text-align: right;\n",
       "    }\n",
       "</style>\n",
       "<table border=\"1\" class=\"dataframe\">\n",
       "  <thead>\n",
       "    <tr style=\"text-align: right;\">\n",
       "      <th></th>\n",
       "      <th>id</th>\n",
       "      <th>speaker</th>\n",
       "      <th>headline</th>\n",
       "      <th>URL</th>\n",
       "      <th>description</th>\n",
       "      <th>transcript_URL</th>\n",
       "      <th>month_filmed</th>\n",
       "      <th>year_filmed</th>\n",
       "      <th>event</th>\n",
       "      <th>duration</th>\n",
       "      <th>...</th>\n",
       "      <th>Unconvincing</th>\n",
       "      <th>Longwinded</th>\n",
       "      <th>Informative</th>\n",
       "      <th>Inspiring</th>\n",
       "      <th>Fascinating</th>\n",
       "      <th>Confusing</th>\n",
       "      <th>OK</th>\n",
       "      <th>Persuasive</th>\n",
       "      <th>Jaw-dropping</th>\n",
       "      <th>Obnoxious</th>\n",
       "    </tr>\n",
       "  </thead>\n",
       "  <tbody>\n",
       "    <tr>\n",
       "      <th>0</th>\n",
       "      <td>7</td>\n",
       "      <td>David Pogue</td>\n",
       "      <td>Simplicity sells</td>\n",
       "      <td>http://www.ted.com/talks/view/id/7</td>\n",
       "      <td>New York Times columnist David Pogue takes aim...</td>\n",
       "      <td>http://www.ted.com/talks/view/id/7/transcript?...</td>\n",
       "      <td>2</td>\n",
       "      <td>2006</td>\n",
       "      <td>TED2006</td>\n",
       "      <td>0:21:26</td>\n",
       "      <td>...</td>\n",
       "      <td>104.0</td>\n",
       "      <td>78.0</td>\n",
       "      <td>399.0</td>\n",
       "      <td>230.0</td>\n",
       "      <td>166.0</td>\n",
       "      <td>27.0</td>\n",
       "      <td>146.0</td>\n",
       "      <td>230.0</td>\n",
       "      <td>54.0</td>\n",
       "      <td>142.0</td>\n",
       "    </tr>\n",
       "    <tr>\n",
       "      <th>1</th>\n",
       "      <td>6</td>\n",
       "      <td>Craig Venter</td>\n",
       "      <td>Sampling the ocean's DNA</td>\n",
       "      <td>http://www.ted.com/talks/view/id/6</td>\n",
       "      <td>Genomics pioneer Craig Venter takes a break fr...</td>\n",
       "      <td>http://www.ted.com/talks/view/id/6/transcript?...</td>\n",
       "      <td>7</td>\n",
       "      <td>2005</td>\n",
       "      <td>TEDGlobal 2005</td>\n",
       "      <td>0:16:51</td>\n",
       "      <td>...</td>\n",
       "      <td>3.0</td>\n",
       "      <td>8.0</td>\n",
       "      <td>199.0</td>\n",
       "      <td>73.0</td>\n",
       "      <td>163.0</td>\n",
       "      <td>23.0</td>\n",
       "      <td>10.0</td>\n",
       "      <td>23.0</td>\n",
       "      <td>74.0</td>\n",
       "      <td>0.0</td>\n",
       "    </tr>\n",
       "    <tr>\n",
       "      <th>2</th>\n",
       "      <td>4</td>\n",
       "      <td>Burt Rutan</td>\n",
       "      <td>The real future of space exploration</td>\n",
       "      <td>http://www.ted.com/talks/view/id/4</td>\n",
       "      <td>In this passionate talk, legendary spacecraft ...</td>\n",
       "      <td>http://www.ted.com/talks/view/id/4/transcript?...</td>\n",
       "      <td>2</td>\n",
       "      <td>2006</td>\n",
       "      <td>TED2006</td>\n",
       "      <td>0:19:37</td>\n",
       "      <td>...</td>\n",
       "      <td>77.0</td>\n",
       "      <td>70.0</td>\n",
       "      <td>337.0</td>\n",
       "      <td>501.0</td>\n",
       "      <td>247.0</td>\n",
       "      <td>23.0</td>\n",
       "      <td>115.0</td>\n",
       "      <td>202.0</td>\n",
       "      <td>63.0</td>\n",
       "      <td>47.0</td>\n",
       "    </tr>\n",
       "    <tr>\n",
       "      <th>3</th>\n",
       "      <td>3</td>\n",
       "      <td>Ashraf Ghani</td>\n",
       "      <td>How to rebuild a broken state</td>\n",
       "      <td>http://www.ted.com/talks/view/id/3</td>\n",
       "      <td>Ashraf Ghani's passionate and powerful 10-minu...</td>\n",
       "      <td>http://www.ted.com/talks/view/id/3/transcript?...</td>\n",
       "      <td>7</td>\n",
       "      <td>2005</td>\n",
       "      <td>TEDGlobal 2005</td>\n",
       "      <td>0:18:45</td>\n",
       "      <td>...</td>\n",
       "      <td>35.0</td>\n",
       "      <td>21.0</td>\n",
       "      <td>218.0</td>\n",
       "      <td>114.0</td>\n",
       "      <td>44.0</td>\n",
       "      <td>25.0</td>\n",
       "      <td>51.0</td>\n",
       "      <td>112.0</td>\n",
       "      <td>35.0</td>\n",
       "      <td>11.0</td>\n",
       "    </tr>\n",
       "    <tr>\n",
       "      <th>4</th>\n",
       "      <td>5</td>\n",
       "      <td>Chris Bangle</td>\n",
       "      <td>Great cars are great art</td>\n",
       "      <td>http://www.ted.com/talks/view/id/5</td>\n",
       "      <td>American designer Chris Bangle explains his ph...</td>\n",
       "      <td>http://www.ted.com/talks/view/id/5/transcript?...</td>\n",
       "      <td>2</td>\n",
       "      <td>2002</td>\n",
       "      <td>TED2002</td>\n",
       "      <td>0:20:04</td>\n",
       "      <td>...</td>\n",
       "      <td>81.0</td>\n",
       "      <td>100.0</td>\n",
       "      <td>88.0</td>\n",
       "      <td>163.0</td>\n",
       "      <td>76.0</td>\n",
       "      <td>32.0</td>\n",
       "      <td>64.0</td>\n",
       "      <td>28.0</td>\n",
       "      <td>9.0</td>\n",
       "      <td>45.0</td>\n",
       "    </tr>\n",
       "  </tbody>\n",
       "</table>\n",
       "<p>5 rows × 30 columns</p>\n",
       "</div>"
      ],
      "text/plain": [
       "   id       speaker                              headline  \\\n",
       "0   7   David Pogue                      Simplicity sells   \n",
       "1   6  Craig Venter              Sampling the ocean's DNA   \n",
       "2   4    Burt Rutan  The real future of space exploration   \n",
       "3   3  Ashraf Ghani         How to rebuild a broken state   \n",
       "4   5  Chris Bangle              Great cars are great art   \n",
       "\n",
       "                                  URL  \\\n",
       "0  http://www.ted.com/talks/view/id/7   \n",
       "1  http://www.ted.com/talks/view/id/6   \n",
       "2  http://www.ted.com/talks/view/id/4   \n",
       "3  http://www.ted.com/talks/view/id/3   \n",
       "4  http://www.ted.com/talks/view/id/5   \n",
       "\n",
       "                                         description  \\\n",
       "0  New York Times columnist David Pogue takes aim...   \n",
       "1  Genomics pioneer Craig Venter takes a break fr...   \n",
       "2  In this passionate talk, legendary spacecraft ...   \n",
       "3  Ashraf Ghani's passionate and powerful 10-minu...   \n",
       "4  American designer Chris Bangle explains his ph...   \n",
       "\n",
       "                                      transcript_URL  month_filmed  \\\n",
       "0  http://www.ted.com/talks/view/id/7/transcript?...             2   \n",
       "1  http://www.ted.com/talks/view/id/6/transcript?...             7   \n",
       "2  http://www.ted.com/talks/view/id/4/transcript?...             2   \n",
       "3  http://www.ted.com/talks/view/id/3/transcript?...             7   \n",
       "4  http://www.ted.com/talks/view/id/5/transcript?...             2   \n",
       "\n",
       "   year_filmed           event duration  ... Unconvincing Longwinded  \\\n",
       "0         2006         TED2006  0:21:26  ...        104.0       78.0   \n",
       "1         2005  TEDGlobal 2005  0:16:51  ...          3.0        8.0   \n",
       "2         2006         TED2006  0:19:37  ...         77.0       70.0   \n",
       "3         2005  TEDGlobal 2005  0:18:45  ...         35.0       21.0   \n",
       "4         2002         TED2002  0:20:04  ...         81.0      100.0   \n",
       "\n",
       "  Informative Inspiring  Fascinating Confusing     OK  Persuasive  \\\n",
       "0       399.0     230.0        166.0      27.0  146.0       230.0   \n",
       "1       199.0      73.0        163.0      23.0   10.0        23.0   \n",
       "2       337.0     501.0        247.0      23.0  115.0       202.0   \n",
       "3       218.0     114.0         44.0      25.0   51.0       112.0   \n",
       "4        88.0     163.0         76.0      32.0   64.0        28.0   \n",
       "\n",
       "   Jaw-dropping  Obnoxious  \n",
       "0          54.0      142.0  \n",
       "1          74.0        0.0  \n",
       "2          63.0       47.0  \n",
       "3          35.0       11.0  \n",
       "4           9.0       45.0  \n",
       "\n",
       "[5 rows x 30 columns]"
      ]
     },
     "execution_count": 236,
     "metadata": {},
     "output_type": "execute_result"
    }
   ],
   "source": [
    "tedtalks_data_with_votes = tedtalks_data.copy()\n",
    "for row_num in range(len(rating)):\n",
    "    for dict_i in rating[row_num]:\n",
    "        tedtalks_data_with_votes.loc[row_num,dict_i['name']] = dict_i['count']\n",
    "tedtalks_data_with_votes.head()"
   ]
  },
  {
   "cell_type": "markdown",
   "id": "8dea0044",
   "metadata": {},
   "source": [
    "### II-6(b)\n",
    "With the data created in (a), find the `headline` of the talk that received the highest number of votes as *Confusing*.\n",
    "\n",
    "*(5 points)*"
   ]
  },
  {
   "cell_type": "code",
   "execution_count": 238,
   "id": "4258856e",
   "metadata": {},
   "outputs": [
    {
     "name": "stdout",
     "output_type": "stream",
     "text": [
      "The talk with most votes as 'confusing'= I believe we evolved from aquatic apes\n"
     ]
    }
   ],
   "source": [
    "print(\"The talk with most votes as 'confusing'=\", tedtalks_data_with_votes.loc[tedtalks_data_with_votes.Confusing.argmax(),'headline'])"
   ]
  },
  {
   "cell_type": "markdown",
   "id": "820d8059",
   "metadata": {},
   "source": [
    "### II-6(c)\n",
    "With the data created in (a), find the `headline` and the `year` of the talk that received the highest percentage of votes in the *Fascinating* category. \n",
    "\n",
    "$$\\text{Percentage of } \\textit{Fascinating} \\text{ votes for a ted talk} = \\frac{Number \\ of \\  votes \\ in \\ the \\ category - \\ Fascinating}{Total \\ votes \\ in \\ all  \\ categories}$$\n",
    "\n",
    "*(10 points)*"
   ]
  },
  {
   "cell_type": "code",
   "execution_count": 237,
   "id": "9d7f2f87",
   "metadata": {},
   "outputs": [
    {
     "name": "stdout",
     "output_type": "stream",
     "text": [
      "The talk with most percente votes as 'Fascinating':\n",
      " headline       Could a Saturn moon harbor life?\n",
      "year_filmed                                2009\n",
      "Name: 443, dtype: object\n"
     ]
    }
   ],
   "source": [
    "tedtalks_data_with_votes['Total_votes'] = tedtalks_data_with_votes.iloc[:,16:].sum(axis=1)\n",
    "tedtalks_data_with_votes['Fascinating_percent_votes'] = tedtalks_data_with_votes['Fascinating']/tedtalks_data_with_votes['Total_votes']\n",
    "print(\"The talk with most percente votes as 'Fascinating':\\n\",tedtalks_data_with_votes.loc[tedtalks_data_with_votes.Fascinating_percent_votes.argmax(),['headline','year_filmed']])"
   ]
  },
  {
   "cell_type": "markdown",
   "id": "61e85404",
   "metadata": {},
   "source": [
    "# III"
   ]
  },
  {
   "cell_type": "markdown",
   "id": "498b0a1c",
   "metadata": {},
   "source": [
    "## III-1\n",
    "Download the data set “univ.txt”. Read it with python.\n",
    "\n",
    "*(2 points)*"
   ]
  },
  {
   "cell_type": "code",
   "execution_count": 206,
   "id": "a6071c32",
   "metadata": {},
   "outputs": [],
   "source": [
    "univ_data = pd.read_csv('univ.txt',engine='python',sep='\\t')"
   ]
  },
  {
   "cell_type": "markdown",
   "id": "d8f92383",
   "metadata": {},
   "source": [
    "## III-2 \n",
    "### III-2(a) \n",
    "Find summary statistics of the data. Based on the statistics, answer parts b-e.\n",
    "\n",
    "*(1 point)*"
   ]
  },
  {
   "cell_type": "code",
   "execution_count": 207,
   "id": "19d0ea26",
   "metadata": {},
   "outputs": [
    {
     "data": {
      "text/html": [
       "<div>\n",
       "<style scoped>\n",
       "    .dataframe tbody tr th:only-of-type {\n",
       "        vertical-align: middle;\n",
       "    }\n",
       "\n",
       "    .dataframe tbody tr th {\n",
       "        vertical-align: top;\n",
       "    }\n",
       "\n",
       "    .dataframe thead th {\n",
       "        text-align: right;\n",
       "    }\n",
       "</style>\n",
       "<table border=\"1\" class=\"dataframe\">\n",
       "  <thead>\n",
       "    <tr style=\"text-align: right;\">\n",
       "      <th></th>\n",
       "      <th>Rank</th>\n",
       "      <th>Tuition and fees</th>\n",
       "      <th>Undergrad Enrollment</th>\n",
       "    </tr>\n",
       "  </thead>\n",
       "  <tbody>\n",
       "    <tr>\n",
       "      <th>count</th>\n",
       "      <td>231.000000</td>\n",
       "      <td>231.000000</td>\n",
       "      <td>231.000000</td>\n",
       "    </tr>\n",
       "    <tr>\n",
       "      <th>mean</th>\n",
       "      <td>113.982684</td>\n",
       "      <td>33769.246753</td>\n",
       "      <td>14946.619048</td>\n",
       "    </tr>\n",
       "    <tr>\n",
       "      <th>std</th>\n",
       "      <td>65.995518</td>\n",
       "      <td>10756.733516</td>\n",
       "      <td>10569.664095</td>\n",
       "    </tr>\n",
       "    <tr>\n",
       "      <th>min</th>\n",
       "      <td>1.000000</td>\n",
       "      <td>5300.000000</td>\n",
       "      <td>1001.000000</td>\n",
       "    </tr>\n",
       "    <tr>\n",
       "      <th>25%</th>\n",
       "      <td>56.000000</td>\n",
       "      <td>25693.000000</td>\n",
       "      <td>6238.500000</td>\n",
       "    </tr>\n",
       "    <tr>\n",
       "      <th>50%</th>\n",
       "      <td>111.000000</td>\n",
       "      <td>31608.000000</td>\n",
       "      <td>12949.000000</td>\n",
       "    </tr>\n",
       "    <tr>\n",
       "      <th>75%</th>\n",
       "      <td>171.000000</td>\n",
       "      <td>42721.000000</td>\n",
       "      <td>22145.500000</td>\n",
       "    </tr>\n",
       "    <tr>\n",
       "      <th>max</th>\n",
       "      <td>220.000000</td>\n",
       "      <td>55056.000000</td>\n",
       "      <td>54513.000000</td>\n",
       "    </tr>\n",
       "  </tbody>\n",
       "</table>\n",
       "</div>"
      ],
      "text/plain": [
       "             Rank  Tuition and fees  Undergrad Enrollment\n",
       "count  231.000000        231.000000            231.000000\n",
       "mean   113.982684      33769.246753          14946.619048\n",
       "std     65.995518      10756.733516          10569.664095\n",
       "min      1.000000       5300.000000           1001.000000\n",
       "25%     56.000000      25693.000000           6238.500000\n",
       "50%    111.000000      31608.000000          12949.000000\n",
       "75%    171.000000      42721.000000          22145.500000\n",
       "max    220.000000      55056.000000          54513.000000"
      ]
     },
     "execution_count": 207,
     "metadata": {},
     "output_type": "execute_result"
    }
   ],
   "source": [
    "univ_data.describe()"
   ]
  },
  {
   "cell_type": "markdown",
   "id": "cb8c9c44",
   "metadata": {},
   "source": [
    "### III-2(b) \n",
    "How many universities are there in the data set?\n",
    "\n",
    "*(2 points)*"
   ]
  },
  {
   "cell_type": "markdown",
   "id": "c71b5912",
   "metadata": {},
   "source": [
    "There are 231 universities in the dataset."
   ]
  },
  {
   "cell_type": "markdown",
   "id": "c0b3b484",
   "metadata": {},
   "source": [
    "### III-2(c) \n",
    "Estimate the maximum tuition among universities that are in the bottom 25% when ranked by total tuition and fees.\n",
    "\n",
    "*(3 points)*"
   ]
  },
  {
   "cell_type": "markdown",
   "id": "0386cb4f",
   "metadata": {},
   "source": [
    "$25,693"
   ]
  },
  {
   "cell_type": "markdown",
   "id": "5a16acf9",
   "metadata": {},
   "source": [
    "### III-2(d) \n",
    "How many universities share the ranking of 220? (If `s` universities share the same rank, say `r`, then the next lower rank is `r+s`, and all the ranks in between `r` and `r+s` are dropped)\n",
    "\n",
    "*(5 points)*"
   ]
  },
  {
   "cell_type": "markdown",
   "id": "b7c29a77",
   "metadata": {},
   "source": [
    "231-220+1 = 12"
   ]
  },
  {
   "cell_type": "markdown",
   "id": "ca6c4b7e",
   "metadata": {},
   "source": [
    "### III-2(e)\n",
    "Can you find the mean fee for an undergrad student in the US from the summary statistics? Justify your answer.\n",
    "\n",
    "*(3 points)*"
   ]
  },
  {
   "cell_type": "markdown",
   "id": "9ed0227c",
   "metadata": {},
   "source": [
    "No. All universities have a distinct number of students. The average fee for an undergrad student in US will be a weighted average of the 'Tuition and fees' column, where the weights are the undergrad enrollment in the respective university\n"
   ]
  },
  {
   "cell_type": "markdown",
   "id": "ff2a235f",
   "metadata": {},
   "source": [
    "## III-3\t\n",
    "Find the average `Tuition and fees` for an undergrad student in the US.\n",
    "\n",
    "*(5 points)*"
   ]
  },
  {
   "cell_type": "code",
   "execution_count": 213,
   "id": "6ab2f7e0",
   "metadata": {},
   "outputs": [
    {
     "data": {
      "text/plain": [
       "30845.32903298868"
      ]
     },
     "execution_count": 213,
     "metadata": {},
     "output_type": "execute_result"
    }
   ],
   "source": [
    "#Computing total tuition and fees for each university\n",
    "univ_data['total_tuition_and_fees'] = univ_data['Tuition and fees']*univ_data['Undergrad Enrollment']\n",
    "sum(univ_data['total_tuition_and_fees'])/sum(univ_data['Undergrad Enrollment'])"
   ]
  },
  {
   "cell_type": "markdown",
   "id": "b62c2143",
   "metadata": {},
   "source": [
    "The average `Tuition and fees` for an undergrad student in the US is ~ $31k."
   ]
  }
 ],
 "metadata": {
  "kernelspec": {
   "display_name": "Python 3 (ipykernel)",
   "language": "python",
   "name": "python3"
  },
  "language_info": {
   "codemirror_mode": {
    "name": "ipython",
    "version": 3
   },
   "file_extension": ".py",
   "mimetype": "text/x-python",
   "name": "python",
   "nbconvert_exporter": "python",
   "pygments_lexer": "ipython3",
   "version": "3.9.13"
  }
 },
 "nbformat": 4,
 "nbformat_minor": 5
}
